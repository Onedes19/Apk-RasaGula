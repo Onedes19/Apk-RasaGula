{
 "cells": [
  {
   "cell_type": "markdown",
   "id": "80103a83",
   "metadata": {},
   "source": [
    "# Implementasi Algoritma K-Nearest Neighbors (KNN) untuk Deteksi Diabetes"
   ]
  },
  {
   "cell_type": "markdown",
   "id": "e20f9941",
   "metadata": {},
   "source": [
    "\n",
    "Notebook ini mencerminkan penjelasan dalam skripsi saya, berikut langkah-langkahnya:\n",
    "1. Penentuan nilai \\( K = 3 \\) untuk model.\n",
    "2. Normalisasi data menggunakan Min-Max Normalization untuk mengatasi perbedaan skala atribut.\n",
    "3. Evaluasi menggunakan akurasi, Confusion Matrix, precision, recall, dan error rate.\n",
    "    "
   ]
  },
  {
   "cell_type": "code",
   "execution_count": 1,
   "id": "e56d13e9",
   "metadata": {},
   "outputs": [],
   "source": [
    "# Import library yang diperlukan\n",
    "import pickle\n",
    "import pandas as pd\n",
    "from sklearn.neighbors import KNeighborsClassifier\n",
    "from sklearn.model_selection import train_test_split\n",
    "from sklearn.preprocessing import MinMaxScaler\n",
    "from sklearn.metrics import accuracy_score, classification_report, confusion_matrix"
   ]
  },
  {
   "cell_type": "code",
   "execution_count": 2,
   "id": "eaa72dc2-3051-43a5-96aa-686609dab833",
   "metadata": {},
   "outputs": [],
   "source": [
    "# 1. Muat dataset\n",
    "# Dataset berisi atribut pasien seperti kadar glukosa darah, tekanan darah, dll.\n",
    "data = pd.read_csv('data/diabetes.csv')  # Sesuaikan path jika diperlukan\n",
    "X = data.drop('Outcome', axis=1)  # Fitur\n",
    "y = data['Outcome']  # Target (1 = Diabetes, 0 = Tidak Diabetes)"
   ]
  },
  {
   "cell_type": "code",
   "execution_count": 3,
   "id": "e582e024-be4f-482f-b488-b4e74b9ff24b",
   "metadata": {},
   "outputs": [],
   "source": [
    "# 2. Normalisasi Data\n",
    "# Normalisasi dilakukan menggunakan Min-Max Normalization untuk menyamakan skala atribut\n",
    "scaler = MinMaxScaler()\n",
    "X_normalized = scaler.fit_transform(X)"
   ]
  },
  {
   "cell_type": "code",
   "execution_count": 4,
   "id": "5917de22-8dc4-4cec-abaf-092745244652",
   "metadata": {},
   "outputs": [],
   "source": [
    "# 3. Split Data\n",
    "# Membagi dataset menjadi data pelatihan (80%) dan data pengujian (20%)\n",
    "X_train, X_test, y_train, y_test = train_test_split(X_normalized, y, test_size=0.2, random_state=42)"
   ]
  },
  {
   "cell_type": "code",
   "execution_count": 5,
   "id": "8816ee29-af22-4e08-a2ac-f781c3c058ec",
   "metadata": {},
   "outputs": [
    {
     "data": {
      "text/html": [
       "<style>#sk-container-id-1 {color: black;}#sk-container-id-1 pre{padding: 0;}#sk-container-id-1 div.sk-toggleable {background-color: white;}#sk-container-id-1 label.sk-toggleable__label {cursor: pointer;display: block;width: 100%;margin-bottom: 0;padding: 0.3em;box-sizing: border-box;text-align: center;}#sk-container-id-1 label.sk-toggleable__label-arrow:before {content: \"▸\";float: left;margin-right: 0.25em;color: #696969;}#sk-container-id-1 label.sk-toggleable__label-arrow:hover:before {color: black;}#sk-container-id-1 div.sk-estimator:hover label.sk-toggleable__label-arrow:before {color: black;}#sk-container-id-1 div.sk-toggleable__content {max-height: 0;max-width: 0;overflow: hidden;text-align: left;background-color: #f0f8ff;}#sk-container-id-1 div.sk-toggleable__content pre {margin: 0.2em;color: black;border-radius: 0.25em;background-color: #f0f8ff;}#sk-container-id-1 input.sk-toggleable__control:checked~div.sk-toggleable__content {max-height: 200px;max-width: 100%;overflow: auto;}#sk-container-id-1 input.sk-toggleable__control:checked~label.sk-toggleable__label-arrow:before {content: \"▾\";}#sk-container-id-1 div.sk-estimator input.sk-toggleable__control:checked~label.sk-toggleable__label {background-color: #d4ebff;}#sk-container-id-1 div.sk-label input.sk-toggleable__control:checked~label.sk-toggleable__label {background-color: #d4ebff;}#sk-container-id-1 input.sk-hidden--visually {border: 0;clip: rect(1px 1px 1px 1px);clip: rect(1px, 1px, 1px, 1px);height: 1px;margin: -1px;overflow: hidden;padding: 0;position: absolute;width: 1px;}#sk-container-id-1 div.sk-estimator {font-family: monospace;background-color: #f0f8ff;border: 1px dotted black;border-radius: 0.25em;box-sizing: border-box;margin-bottom: 0.5em;}#sk-container-id-1 div.sk-estimator:hover {background-color: #d4ebff;}#sk-container-id-1 div.sk-parallel-item::after {content: \"\";width: 100%;border-bottom: 1px solid gray;flex-grow: 1;}#sk-container-id-1 div.sk-label:hover label.sk-toggleable__label {background-color: #d4ebff;}#sk-container-id-1 div.sk-serial::before {content: \"\";position: absolute;border-left: 1px solid gray;box-sizing: border-box;top: 0;bottom: 0;left: 50%;z-index: 0;}#sk-container-id-1 div.sk-serial {display: flex;flex-direction: column;align-items: center;background-color: white;padding-right: 0.2em;padding-left: 0.2em;position: relative;}#sk-container-id-1 div.sk-item {position: relative;z-index: 1;}#sk-container-id-1 div.sk-parallel {display: flex;align-items: stretch;justify-content: center;background-color: white;position: relative;}#sk-container-id-1 div.sk-item::before, #sk-container-id-1 div.sk-parallel-item::before {content: \"\";position: absolute;border-left: 1px solid gray;box-sizing: border-box;top: 0;bottom: 0;left: 50%;z-index: -1;}#sk-container-id-1 div.sk-parallel-item {display: flex;flex-direction: column;z-index: 1;position: relative;background-color: white;}#sk-container-id-1 div.sk-parallel-item:first-child::after {align-self: flex-end;width: 50%;}#sk-container-id-1 div.sk-parallel-item:last-child::after {align-self: flex-start;width: 50%;}#sk-container-id-1 div.sk-parallel-item:only-child::after {width: 0;}#sk-container-id-1 div.sk-dashed-wrapped {border: 1px dashed gray;margin: 0 0.4em 0.5em 0.4em;box-sizing: border-box;padding-bottom: 0.4em;background-color: white;}#sk-container-id-1 div.sk-label label {font-family: monospace;font-weight: bold;display: inline-block;line-height: 1.2em;}#sk-container-id-1 div.sk-label-container {text-align: center;}#sk-container-id-1 div.sk-container {/* jupyter's `normalize.less` sets `[hidden] { display: none; }` but bootstrap.min.css set `[hidden] { display: none !important; }` so we also need the `!important` here to be able to override the default hidden behavior on the sphinx rendered scikit-learn.org. See: https://github.com/scikit-learn/scikit-learn/issues/21755 */display: inline-block !important;position: relative;}#sk-container-id-1 div.sk-text-repr-fallback {display: none;}</style><div id=\"sk-container-id-1\" class=\"sk-top-container\"><div class=\"sk-text-repr-fallback\"><pre>KNeighborsClassifier(metric=&#x27;euclidean&#x27;, n_neighbors=3)</pre><b>In a Jupyter environment, please rerun this cell to show the HTML representation or trust the notebook. <br />On GitHub, the HTML representation is unable to render, please try loading this page with nbviewer.org.</b></div><div class=\"sk-container\" hidden><div class=\"sk-item\"><div class=\"sk-estimator sk-toggleable\"><input class=\"sk-toggleable__control sk-hidden--visually\" id=\"sk-estimator-id-1\" type=\"checkbox\" checked><label for=\"sk-estimator-id-1\" class=\"sk-toggleable__label sk-toggleable__label-arrow\">KNeighborsClassifier</label><div class=\"sk-toggleable__content\"><pre>KNeighborsClassifier(metric=&#x27;euclidean&#x27;, n_neighbors=3)</pre></div></div></div></div></div>"
      ],
      "text/plain": [
       "KNeighborsClassifier(metric='euclidean', n_neighbors=3)"
      ]
     },
     "execution_count": 5,
     "metadata": {},
     "output_type": "execute_result"
    }
   ],
   "source": [
    "# 4. Latih Model dengan K = 3\n",
    "# Menggunakan metrik Euclidean Distance untuk menghitung jarak antar data\n",
    "model = KNeighborsClassifier(n_neighbors=3, metric='euclidean')\n",
    "model.fit(X_train, y_train)"
   ]
  },
  {
   "cell_type": "code",
   "execution_count": 6,
   "id": "bc6d2440-ab22-4ee7-b504-75739455a55f",
   "metadata": {},
   "outputs": [],
   "source": [
    "# 5. Prediksi Data Uji\n",
    "# Prediksi dilakukan pada data uji untuk mengevaluasi performa model\n",
    "y_pred = model.predict(X_test)"
   ]
  },
  {
   "cell_type": "code",
   "execution_count": 7,
   "id": "ef573096-d40a-4d8a-9d68-b936031bd43a",
   "metadata": {},
   "outputs": [
    {
     "name": "stdout",
     "output_type": "stream",
     "text": [
      "Akurasi: 0.93\n"
     ]
    }
   ],
   "source": [
    "# 6. Evaluasi Model\n",
    "# a. Akurasi\n",
    "accuracy = accuracy_score(y_test, y_pred)\n",
    "print(f\"Akurasi: {accuracy:.2f}\")"
   ]
  },
  {
   "cell_type": "code",
   "execution_count": 8,
   "id": "95c11b4c-8333-407b-9408-2367dbdbba3d",
   "metadata": {},
   "outputs": [
    {
     "name": "stdout",
     "output_type": "stream",
     "text": [
      "Laporan Klasifikasi:\n",
      "              precision    recall  f1-score   support\n",
      "\n",
      "           0       0.97      0.90      0.93       160\n",
      "           1       0.89      0.96      0.93       139\n",
      "\n",
      "    accuracy                           0.93       299\n",
      "   macro avg       0.93      0.93      0.93       299\n",
      "weighted avg       0.93      0.93      0.93       299\n",
      "\n"
     ]
    }
   ],
   "source": [
    "# b. Laporan Klasifikasi\n",
    "print(\"Laporan Klasifikasi:\")\n",
    "print(classification_report(y_test, y_pred))"
   ]
  },
  {
   "cell_type": "code",
   "execution_count": 9,
   "id": "622357d1-2a93-462d-8bb5-391e1b28d21f",
   "metadata": {},
   "outputs": [
    {
     "name": "stdout",
     "output_type": "stream",
     "text": [
      "Confusion Matrix:\n",
      "[[144  16]\n",
      " [  5 134]]\n"
     ]
    }
   ],
   "source": [
    "# c. Confusion Matrix\n",
    "conf_matrix = confusion_matrix(y_test, y_pred)\n",
    "print(\"Confusion Matrix:\")\n",
    "print(conf_matrix)"
   ]
  },
  {
   "cell_type": "code",
   "execution_count": 10,
   "id": "adab75b1-5e6e-4e01-aa9b-37616dc36831",
   "metadata": {},
   "outputs": [
    {
     "name": "stdout",
     "output_type": "stream",
     "text": [
      "Error Rate: 0.07\n"
     ]
    }
   ],
   "source": [
    "# 7. Hitung Error Rate\n",
    "# Error rate dihitung dari False Positive (FP) dan False Negative (FN)\n",
    "TN, FP, FN, TP = conf_matrix.ravel()\n",
    "error_rate = (FP + FN) / (TN + FP + FN + TP)\n",
    "print(f\"Error Rate: {error_rate:.2f}\")"
   ]
  },
  {
   "cell_type": "code",
   "execution_count": 11,
   "id": "fc1766ba",
   "metadata": {},
   "outputs": [
    {
     "name": "stdout",
     "output_type": "stream",
     "text": [
      "Model dan scaler berhasil disimpan ke model-knn.pkl.\n"
     ]
    }
   ],
   "source": [
    "\n",
    "# Simpan model dan scaler bersama dalam satu file .pkl\n",
    "with open('model-knn.pkl', 'wb') as file:\n",
    "    pickle.dump({'model': model, 'scaler': scaler}, file)\n",
    "print(\"Model dan scaler berhasil disimpan ke model-knn.pkl.\")\n",
    "                "
   ]
  },
  {
   "cell_type": "code",
   "execution_count": 12,
   "id": "0479fc88-735a-4034-8005-941eae82ce4a",
   "metadata": {},
   "outputs": [
    {
     "name": "stdout",
     "output_type": "stream",
     "text": [
      "Prediksi untuk input baru: Diabetes\n"
     ]
    }
   ],
   "source": [
    "# 9. Prediksi Data Baru\n",
    "# Contoh prediksi pasien\n",
    "# Pastikan input baru diubah menjadi array numpy\n",
    "new_input = pd.DataFrame([[5, 72, 35, 0, 0, 33.6, 0.627, 50]], columns=X.columns)\n",
    "prediction = model.predict(new_input.to_numpy())  # Ubah DataFrame menjadi array\n",
    "print(\"Prediksi untuk input baru:\", \"Diabetes\" if prediction[0] == 1 else \"Tidak Diabetes\")"
   ]
  }
 ],
 "metadata": {
  "kernelspec": {
   "display_name": "Python 3 (ipykernel)",
   "language": "python",
   "name": "python3"
  },
  "language_info": {
   "codemirror_mode": {
    "name": "ipython",
    "version": 3
   },
   "file_extension": ".py",
   "mimetype": "text/x-python",
   "name": "python",
   "nbconvert_exporter": "python",
   "pygments_lexer": "ipython3",
   "version": "3.11.0"
  }
 },
 "nbformat": 4,
 "nbformat_minor": 5
}
